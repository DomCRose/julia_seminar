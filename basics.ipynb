{
 "cells": [
  {
   "cell_type": "code",
   "execution_count": 14,
   "metadata": {},
   "outputs": [],
   "source": [
    "from random import randint\n",
    "import numpy as np\n",
    "\n",
    "def random_walk(initial_state, steps):\n",
    "    states = np.zeros(steps + 1, dtype=np.int32)\n",
    "    states[0] = initial_state\n",
    "    for i in range(1, steps + 1):\n",
    "        step = (randint(0, 1) - 0.5) * 2\n",
    "        states[i] = states[i-1] + step\n",
    "    return states"
   ]
  },
  {
   "cell_type": "code",
   "execution_count": 15,
   "metadata": {},
   "outputs": [
    {
     "name": "stdout",
     "output_type": "stream",
     "text": [
      "447 µs ± 70.5 µs per loop (mean ± std. dev. of 7 runs, 1,000 loops each)\n"
     ]
    }
   ],
   "source": [
    "%timeit random_walk(0, 100)"
   ]
  },
  {
   "cell_type": "code",
   "execution_count": null,
   "metadata": {},
   "outputs": [],
   "source": [
    "\n",
    "\n",
    "\n",
    "\n",
    "\n",
    "\n",
    "\n",
    "\n",
    "\n",
    "\n",
    "\n",
    "\n",
    "\n",
    "\n",
    "\n",
    "\n"
   ]
  },
  {
   "cell_type": "code",
   "execution_count": 16,
   "metadata": {},
   "outputs": [],
   "source": [
    "def random_walk_vectorized(initial_state, steps):\n",
    "    randomness = (np.random.randint(0, 2, steps + 1) - 0.5) * 2\n",
    "    randomness[0] += initial_state\n",
    "    return np.cumsum(randomness)"
   ]
  },
  {
   "cell_type": "code",
   "execution_count": 17,
   "metadata": {},
   "outputs": [
    {
     "name": "stdout",
     "output_type": "stream",
     "text": [
      "21.1 µs ± 1.6 µs per loop (mean ± std. dev. of 7 runs, 10,000 loops each)\n",
      "102 µs ± 4.45 µs per loop (mean ± std. dev. of 7 runs, 10,000 loops each)\n"
     ]
    }
   ],
   "source": [
    "%timeit random_walk_vectorized(0, 100)\n",
    "%timeit random_walk_vectorized(0, 10000)"
   ]
  },
  {
   "cell_type": "code",
   "execution_count": null,
   "metadata": {},
   "outputs": [],
   "source": [
    "\n",
    "\n",
    "\n",
    "\n",
    "\n",
    "\n",
    "\n",
    "\n",
    "\n",
    "\n"
   ]
  },
  {
   "cell_type": "code",
   "execution_count": 18,
   "metadata": {},
   "outputs": [],
   "source": [
    "from numba import njit"
   ]
  },
  {
   "cell_type": "code",
   "execution_count": 19,
   "metadata": {},
   "outputs": [],
   "source": [
    "@njit\n",
    "def random_walk_jit(initial_state, steps):\n",
    "    states = np.zeros(steps + 1, dtype=np.int32)\n",
    "    states[0] = initial_state\n",
    "    for i in range(1, steps + 1):\n",
    "        step = (randint(0, 1) - 0.5) * 2\n",
    "        states[i] = states[i-1] + step\n",
    "    return states\n",
    "\n",
    "@njit\n",
    "def random_walk_vectorized_jit(initial_state, steps):\n",
    "    randomness = np.cumsum((np.random.randint(0, 2, steps + 1) - 0.5) * 2)\n",
    "    return randomness + initial_state"
   ]
  },
  {
   "cell_type": "code",
   "execution_count": 20,
   "metadata": {},
   "outputs": [
    {
     "name": "stdout",
     "output_type": "stream",
     "text": [
      "2.62 µs ± 127 ns per loop (mean ± std. dev. of 7 runs, 100,000 loops each)\n"
     ]
    }
   ],
   "source": [
    "%timeit random_walk_jit(0, 100)"
   ]
  },
  {
   "cell_type": "code",
   "execution_count": 22,
   "metadata": {},
   "outputs": [
    {
     "name": "stdout",
     "output_type": "stream",
     "text": [
      "1.73 µs ± 108 ns per loop (mean ± std. dev. of 7 runs, 1,000,000 loops each)\n"
     ]
    }
   ],
   "source": [
    "%timeit random_walk_vectorized_jit(0, 100)"
   ]
  },
  {
   "cell_type": "code",
   "execution_count": 23,
   "metadata": {},
   "outputs": [],
   "source": [
    "class RandomWalk():\n",
    "    def __init__(self) -> None:\n",
    "        pass\n",
    "\n",
    "    def generate_update(self, state):\n",
    "        return (randint(0, 1) - 0.5) * 2\n",
    "\n",
    "def trajectory(initial_state, dynamics, steps):\n",
    "    states = np.zeros(steps + 1, dtype=np.int32)\n",
    "    states[0] = initial_state\n",
    "    for i in range(steps):\n",
    "        step = dynamics.generate_update(states[i-1])\n",
    "        states[i+1] = states[i] + step\n",
    "    return states"
   ]
  },
  {
   "cell_type": "code",
   "execution_count": 24,
   "metadata": {},
   "outputs": [
    {
     "data": {
      "text/plain": [
       "1.0"
      ]
     },
     "execution_count": 24,
     "metadata": {},
     "output_type": "execute_result"
    }
   ],
   "source": [
    "dyn = RandomWalk()\n",
    "dyn.generate_update(0)"
   ]
  },
  {
   "cell_type": "code",
   "execution_count": 25,
   "metadata": {},
   "outputs": [
    {
     "name": "stdout",
     "output_type": "stream",
     "text": [
      "369 µs ± 10.1 µs per loop (mean ± std. dev. of 7 runs, 1,000 loops each)\n"
     ]
    }
   ],
   "source": [
    "%timeit trajectory(0, dyn, 100)"
   ]
  },
  {
   "cell_type": "code",
   "execution_count": null,
   "metadata": {},
   "outputs": [],
   "source": []
  }
 ],
 "metadata": {
  "kernelspec": {
   "display_name": "Python 3.8.8 ('numba')",
   "language": "python",
   "name": "python3"
  },
  "language_info": {
   "codemirror_mode": {
    "name": "ipython",
    "version": 3
   },
   "file_extension": ".py",
   "mimetype": "text/x-python",
   "name": "python",
   "nbconvert_exporter": "python",
   "pygments_lexer": "ipython3",
   "version": "3.8.8"
  },
  "orig_nbformat": 4,
  "vscode": {
   "interpreter": {
    "hash": "94a2a463d41a97b46564929fd0d97a08bd8376d31a073bb610a2c3e7598cbb82"
   }
  }
 },
 "nbformat": 4,
 "nbformat_minor": 2
}
